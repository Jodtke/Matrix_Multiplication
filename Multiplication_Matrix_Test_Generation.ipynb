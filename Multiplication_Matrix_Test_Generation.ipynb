{
  "nbformat": 4,
  "nbformat_minor": 0,
  "metadata": {
    "colab": {
      "name": "Multiplication Matrix Test Generation.ipynb",
      "private_outputs": true,
      "provenance": [],
      "collapsed_sections": []
    },
    "kernelspec": {
      "name": "python3",
      "display_name": "Python 3"
    },
    "language_info": {
      "name": "python"
    },
    "accelerator": "GPU"
  },
  "cells": [
    {
      "cell_type": "markdown",
      "metadata": {
        "id": "cIXL_oANgUVa"
      },
      "source": [
        "Generate multiple text matrix"
      ]
    },
    {
      "cell_type": "code",
      "metadata": {
        "id": "qOnWdIQEgRWs"
      },
      "source": [
        "import numpy as np\n",
        "from numpy import savetxt\n",
        "from pathlib import Path\n",
        "import json\n",
        "from datetime import datetime\n",
        "import time\n",
        "\n",
        "from numba import njit, prange\n",
        "\n",
        "# Create folder\n",
        "date_time = datetime.now().strftime(\"%m_%d_%Y_%H_%M\")\n",
        "print(f\"Created folder data_{date_time}\")\n",
        "\n",
        "# Remove drive/MyDrive/HPC if it runs on colab only\n",
        "# p = Path('drive/MyDrive/HPC/data_' + date_time)\n",
        "p = Path('HPC/data_' + date_time)\n",
        "\n",
        "p.mkdir(exist_ok=True)"
      ],
      "execution_count": null,
      "outputs": []
    },
    {
      "cell_type": "code",
      "metadata": {
        "id": "9oU4eZPbzdKV"
      },
      "source": [
        "@njit(parallel=True)\n",
        "def mat_mult(A, B):\n",
        "    assert A.shape[1] == B.shape[0]\n",
        "    res = np.zeros((A.shape[0], B.shape[1]), )\n",
        "    for i in prange(A.shape[0]):\n",
        "        for k in range(A.shape[1]):\n",
        "            for j in range(B.shape[1]):\n",
        "                res[i,j] += A[i,k] * B[k,j]\n",
        "    return res"
      ],
      "execution_count": null,
      "outputs": []
    },
    {
      "cell_type": "code",
      "metadata": {
        "id": "NQDyI-AVrLMo"
      },
      "source": [
        "# The function here will restrict the scope, to make sure that it generates not very small number\n",
        "# Such as: min_range = -100 => -100 to -10\n",
        "# def random_within_2_ranges_of(min_range, max_range, is_int):\n",
        "#   if (min_range == 0):\n",
        "#     return np.random.randint(0, max_range) if is_int else np.random.uniform(0, max_range)\n",
        "\n",
        "#   if (max_range == 0):\n",
        "#     return np.random.randint(min_range, 0) if is_int else np.random.uniform(min_range, 0)\n",
        "\n",
        "#   arr1 = np.random.randint(min_range,min_range/10) if is_int else np.random.uniform(min_range,min_range/10)\n",
        "#   arr2 = np.random.randint(max_range/10,max_range) if is_int else np.random.uniform(max_range/10,max_range)\n",
        "#   out = np.stack((arr1,arr2))\n",
        "#   out = np.random.choice(out)\n",
        "#   return out\n",
        "\n",
        "# random_within_2_ranges_of(-11, 0, False)"
      ],
      "execution_count": null,
      "outputs": []
    },
    {
      "cell_type": "code",
      "metadata": {
        "id": "lQCZEzWIDBTG"
      },
      "source": [
        "def generate_matrix(folder, test_no, max_dimension, lowest_val, highest_val, is_int):\n",
        "  n = np.random.randint(max_dimension/10, max_dimension)\n",
        "  m = np.random.randint(max_dimension/10, max_dimension)\n",
        "\n",
        "  start_time = time.time()\n",
        "  a = np.random.randint(lowest_val, highest_val, (n, m)) if is_int else np.random.uniform(lowest_val, highest_val, (n, m))\n",
        "  b = np.random.randint(lowest_val, highest_val, (m, n)) if is_int else np.random.uniform(lowest_val, highest_val, (m, n))\n",
        "  end_time = time.time()\n",
        "  print(f'Init {test_no} took {format(end_time - start_time)}')\n",
        "\n",
        "  start_time = time.time()\n",
        "  # c = np.dot(a, b)\n",
        "  # c = mat_mult(a, b)\n",
        "  # c = np.asarray(0)\n",
        "  end_time = time.time()\n",
        "\n",
        "  desc = f'TestNo {test_no} C=A.B with {n}x{m} dot {m}x{n}, Colab time {format(end_time - start_time)}, is_all_integers {is_int}, highest {highest_val}, lowest {lowest_val}'\n",
        "  print(desc)\n",
        "\n",
        "  # data = {'Formular': desc,\n",
        "  #         'A': str(a.tolist()), \n",
        "  #         'B': str(b.tolist()), \n",
        "  #         'C': str(c.tolist())}\n",
        "\n",
        "  start_time = time.time()\n",
        "  # with open(f'{folder}/TestNo_{test_no}_{n}x{m}_{is_int}_{highest_val}_{lowest_val}.json', 'w', encoding='utf-8') as f:\n",
        "  #     json.dump(data, f, ensure_ascii=False, indent=4)\n",
        "\n",
        "  filename = f'{folder}/TestNo_{test_no}_{n}x{m}_{is_int}_{highest_val}_{lowest_val}.txt'\n",
        "\n",
        "  with open(filename, 'w') as f:\n",
        "    f.write(desc)\n",
        "    for line in a:\n",
        "        np.savetxt(f, line, fmt='%.2f', newline= ' ')\n",
        "    for line in b:\n",
        "        np.savetxt(f, line, fmt='%.2f', newline= ' ')\n",
        "    # for line in c:\n",
        "    #     np.savetxt(f, line, fmt='%.2f', newline= ' ')\n",
        "\n",
        "  end_time = time.time()\n",
        "\n",
        "  print(f'Wrote {test_no} took {format(end_time - start_time)} \\n---')\n"
      ],
      "execution_count": null,
      "outputs": []
    },
    {
      "cell_type": "code",
      "metadata": {
        "id": "ODiK47w4QDfQ"
      },
      "source": [
        "def generate_list_test(lst):\n",
        "  counter = 0\n",
        "  for is_int in [True, False]:\n",
        "    for item in lst:\n",
        "      for i in range(item['test_files_no']):\n",
        "        counter += 1\n",
        "        generate_matrix(p, counter, item['max_dim'], item['min_val'], item['max_val'], is_int)\n"
      ],
      "execution_count": null,
      "outputs": []
    },
    {
      "cell_type": "code",
      "metadata": {
        "id": "BmluDHqMSQoa"
      },
      "source": [
        "lst = [{'test_files_no': 10, 'max_dim': 10, 'min_val': 0, 'max_val': 10},\n",
        "       {'test_files_no': 10, 'max_dim': 10, 'min_val': 0, 'max_val': 100},\n",
        "       {'test_files_no': 10, 'max_dim': 10, 'min_val': 0, 'max_val': 1000},\n",
        "       {'test_files_no': 10, 'max_dim': 10, 'min_val': 0, 'max_val': 10000},\n",
        "\n",
        "       {'test_files_no': 10, 'max_dim': 10, 'min_val': -10, 'max_val': 0},\n",
        "       {'test_files_no': 10, 'max_dim': 10, 'min_val': -100, 'max_val': 0},\n",
        "       {'test_files_no': 10, 'max_dim': 10, 'min_val': -1000, 'max_val': 0},\n",
        "       {'test_files_no': 10, 'max_dim': 10, 'min_val': -10000, 'max_val': 0},\n",
        "\n",
        "       {'test_files_no': 10, 'max_dim': 10, 'min_val': -10, 'max_val': 10},\n",
        "       {'test_files_no': 10, 'max_dim': 10, 'min_val': -100, 'max_val': 100},\n",
        "       {'test_files_no': 10, 'max_dim': 10, 'min_val': -1000, 'max_val': 1000},\n",
        "       {'test_files_no': 10, 'max_dim': 10, 'min_val': -10000, 'max_val': 10000},\n",
        "\n",
        "       {'test_files_no': 10, 'max_dim': 100, 'min_val': 0, 'max_val': 10},\n",
        "       {'test_files_no': 10, 'max_dim': 100, 'min_val': 0, 'max_val': 100},\n",
        "       {'test_files_no': 10, 'max_dim': 100, 'min_val': 0, 'max_val': 1000},\n",
        "       {'test_files_no': 10, 'max_dim': 100, 'min_val': 0, 'max_val': 10000},\n",
        "\n",
        "       {'test_files_no': 10, 'max_dim': 100, 'min_val': -10, 'max_val': 10},\n",
        "       {'test_files_no': 10, 'max_dim': 100, 'min_val': -100, 'max_val': 100},\n",
        "       {'test_files_no': 10, 'max_dim': 100, 'min_val': -1000, 'max_val': 1000},\n",
        "       {'test_files_no': 10, 'max_dim': 100, 'min_val': -10000, 'max_val': 10000},\n",
        "\n",
        "       {'test_files_no': 10, 'max_dim': 100, 'min_val': -10, 'max_val': 0},\n",
        "       {'test_files_no': 10, 'max_dim': 100, 'min_val': -100, 'max_val': 0},\n",
        "       {'test_files_no': 10, 'max_dim': 100, 'min_val': -1000, 'max_val': 0},\n",
        "       {'test_files_no': 10, 'max_dim': 100, 'min_val': -10000, 'max_val': 0},\n",
        "\n",
        "       {'test_files_no': 10, 'max_dim': 1000, 'min_val': 0, 'max_val': 10},\n",
        "       {'test_files_no': 10, 'max_dim': 1000, 'min_val': 0, 'max_val': 100},\n",
        "       {'test_files_no': 10, 'max_dim': 1000, 'min_val': 0, 'max_val': 1000},\n",
        "       {'test_files_no': 10, 'max_dim': 1000, 'min_val': 0, 'max_val': 10000},\n",
        "\n",
        "       {'test_files_no': 10, 'max_dim': 1000, 'min_val': -10, 'max_val': 10},\n",
        "       {'test_files_no': 10, 'max_dim': 1000, 'min_val': -100, 'max_val': 100},\n",
        "       {'test_files_no': 10, 'max_dim': 1000, 'min_val': -1000, 'max_val': 1000},\n",
        "       {'test_files_no': 10, 'max_dim': 1000, 'min_val': -10000, 'max_val': 10000},\n",
        "\n",
        "       {'test_files_no': 10, 'max_dim': 1000, 'min_val': -10, 'max_val': 0},\n",
        "       {'test_files_no': 10, 'max_dim': 1000, 'min_val': -100, 'max_val': 0},\n",
        "       {'test_files_no': 10, 'max_dim': 1000, 'min_val': -1000, 'max_val': 0},\n",
        "       {'test_files_no': 10, 'max_dim': 1000, 'min_val': -10000, 'max_val': 0},\n",
        "\n",
        "       {'test_files_no': 10, 'max_dim': 10000, 'min_val': 0, 'max_val': 10},\n",
        "       {'test_files_no': 10, 'max_dim': 10000, 'min_val': 0, 'max_val': 100},\n",
        "       {'test_files_no': 10, 'max_dim': 10000, 'min_val': 0, 'max_val': 1000},\n",
        "       {'test_files_no': 10, 'max_dim': 10000, 'min_val': 0, 'max_val': 10000},\n",
        "       \n",
        "       {'test_files_no': 10, 'max_dim': 10000, 'min_val': -10, 'max_val': 0},\n",
        "       {'test_files_no': 10, 'max_dim': 10000, 'min_val': -100, 'max_val': 0},\n",
        "       {'test_files_no': 10, 'max_dim': 10000, 'min_val': -1000, 'max_val': 0},\n",
        "       {'test_files_no': 10, 'max_dim': 10000, 'min_val': -10000, 'max_val': 0},\n",
        "\n",
        "       {'test_files_no': 10, 'max_dim': 10000, 'min_val': -10, 'max_val': 10},\n",
        "       {'test_files_no': 10, 'max_dim': 10000, 'min_val': -100, 'max_val': 100},\n",
        "       {'test_files_no': 10, 'max_dim': 10000, 'min_val': -1000, 'max_val': 1000},\n",
        "       {'test_files_no': 10, 'max_dim': 10000, 'min_val': -10000, 'max_val': 10000}]\n"
      ],
      "execution_count": null,
      "outputs": []
    },
    {
      "cell_type": "code",
      "metadata": {
        "id": "wproJApVWSd6"
      },
      "source": [
        "generate_list_test(lst)"
      ],
      "execution_count": null,
      "outputs": []
    },
    {
      "cell_type": "code",
      "metadata": {
        "id": "Nr6KXMoJeCrv"
      },
      "source": [
        ""
      ],
      "execution_count": null,
      "outputs": []
    },
    {
      "cell_type": "code",
      "metadata": {
        "id": "W9UEZ2y3gGzk"
      },
      "source": [
        ""
      ],
      "execution_count": null,
      "outputs": []
    },
    {
      "cell_type": "code",
      "metadata": {
        "id": "kNOmgYWTnqmd"
      },
      "source": [
        "1000/10"
      ],
      "execution_count": null,
      "outputs": []
    },
    {
      "cell_type": "code",
      "metadata": {
        "id": "qeQarfXxpGWV"
      },
      "source": [
        ""
      ],
      "execution_count": null,
      "outputs": []
    },
    {
      "cell_type": "code",
      "metadata": {
        "id": "i7j4tD926E6s"
      },
      "source": [
        "mat = np.asarray([[1, 2, 3], [4, 5, 6], [7, 8, 9]])\n"
      ],
      "execution_count": null,
      "outputs": []
    },
    {
      "cell_type": "code",
      "metadata": {
        "id": "AEFgKv0wIlsW"
      },
      "source": [
        "mat"
      ],
      "execution_count": null,
      "outputs": []
    },
    {
      "cell_type": "code",
      "metadata": {
        "id": "7IfLSLZc1RuW"
      },
      "source": [
        "k = np.random.randint(1,4, (10000, 40000))"
      ],
      "execution_count": null,
      "outputs": []
    },
    {
      "cell_type": "code",
      "metadata": {
        "id": "CCcGyil91-4J"
      },
      "source": [
        "k"
      ],
      "execution_count": null,
      "outputs": []
    },
    {
      "cell_type": "code",
      "metadata": {
        "id": "7cjLffzA1_pp"
      },
      "source": [
        "with open('outfile.txt', 'w') as f:\n",
        "    for line in k:\n",
        "        np.savetxt(f, line, fmt='%.2f')"
      ],
      "execution_count": null,
      "outputs": []
    },
    {
      "cell_type": "code",
      "metadata": {
        "id": "8UWfoBDe2Dc0"
      },
      "source": [
        "np.array2string(k)"
      ],
      "execution_count": null,
      "outputs": []
    },
    {
      "cell_type": "code",
      "metadata": {
        "id": "1XIJ6-RW2kpN"
      },
      "source": [
        ""
      ],
      "execution_count": null,
      "outputs": []
    }
  ]
}